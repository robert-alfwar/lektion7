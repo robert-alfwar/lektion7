{
 "metadata": {
  "language_info": {
   "codemirror_mode": {
    "name": "ipython",
    "version": 3
   },
   "file_extension": ".py",
   "mimetype": "text/x-python",
   "name": "python",
   "nbconvert_exporter": "python",
   "pygments_lexer": "ipython3",
   "version": "3.8.5-final"
  },
  "orig_nbformat": 2,
  "kernelspec": {
   "name": "python_defaultSpec_1599477151222",
   "display_name": "Python 3.8.5 32-bit"
  }
 },
 "nbformat": 4,
 "nbformat_minor": 2,
 "cells": [
  {
   "cell_type": "code",
   "execution_count": null,
   "metadata": {},
   "outputs": [],
   "source": [
    "#Uppgifter:\n",
    "    #1. Kör kommandot \"pip list\" vad händer? varför?\n",
    "\"\"\"\n",
    "    Package         Version\n",
    "--------------- -------\n",
    "numpy           1.19.1\n",
    "pandas          1.1.1\n",
    "pip             20.2.2\n",
    "python-dateutil 2.8.1\n",
    "pytz            2020.1\n",
    "six             1.15.0\"\"\"\n",
    "\n",
    "#Lista över paket som jag har installerat.\n",
    "\n",
    "\n",
    "    "
   ]
  },
  {
   "cell_type": "code",
   "execution_count": 14,
   "metadata": {
    "tags": []
   },
   "outputs": [],
   "source": [
    "#Uppgifter: 1. Gör ett program där du importerar hela modulerna math och cmath genom att skriva\n",
    "\n",
    "import math\n",
    "import cmath \n",
    "\n"
   ]
  },
  {
   "cell_type": "code",
   "execution_count": 9,
   "metadata": {
    "tags": []
   },
   "outputs": [
    {
     "output_type": "stream",
     "name": "stdout",
     "text": "0.8414709848078965\n(0.8414709848078965+0j)\n"
    }
   ],
   "source": [
    "#2. Skriv ut resultaten för de olika metoderna math.sin(1) och cmath.sin(1)\n",
    "print (math.sin(1))\n",
    "print (cmath.sin(1))"
   ]
  },
  {
   "cell_type": "code",
   "execution_count": 10,
   "metadata": {
    "tags": []
   },
   "outputs": [
    {
     "output_type": "stream",
     "name": "stdout",
     "text": "<class 'float'>\n<class 'complex'>\n"
    }
   ],
   "source": [
    "#3. Notera skillnaden i resultat. (tips använd \"type()\")\n",
    "print (type(math.sin(1)))\n",
    "print (type(cmath.sin(1)))"
   ]
  },
  {
   "cell_type": "code",
   "execution_count": 12,
   "metadata": {},
   "outputs": [],
   "source": [
    "# 4. Gör ett nytt program med samma innehåll, där du importerar följande:\n",
    "from math import sin\n",
    "from cmath import sin"
   ]
  },
  {
   "cell_type": "code",
   "execution_count": 13,
   "metadata": {
    "tags": []
   },
   "outputs": [
    {
     "output_type": "stream",
     "name": "stdout",
     "text": "(0.8414709848078965+0j)\n"
    }
   ],
   "source": [
    "#5. Skriv ut resultatet av sin(1)\n",
    "print (sin(1))"
   ]
  },
  {
   "cell_type": "code",
   "execution_count": 15,
   "metadata": {
    "tags": []
   },
   "outputs": [
    {
     "output_type": "stream",
     "name": "stdout",
     "text": "(0.8414709848078965+0j)\n"
    }
   ],
   "source": [
    "#6. Gör ett till likadant program, men byt ordning på importsatserna. Vad blir det för skillnad i resultaten? Varför?\n",
    "print (cmath.sin(1))"
   ]
  },
  {
   "cell_type": "code",
   "execution_count": 17,
   "metadata": {},
   "outputs": [],
   "source": [
    "#7. Skapa ytterliggare ett program men importera istället så här:\n",
    "from math import sin\n",
    "from cmath import sin as csin"
   ]
  },
  {
   "cell_type": "code",
   "execution_count": 18,
   "metadata": {
    "tags": []
   },
   "outputs": [
    {
     "output_type": "stream",
     "name": "stdout",
     "text": "0.8414709848078965\n(0.8414709848078965+0j)\n"
    }
   ],
   "source": [
    "#8. Skriv ut värden för både sin(1) och csin(1)\n",
    "print (sin(1))\n",
    "print (csin(1))"
   ]
  },
  {
   "cell_type": "code",
   "execution_count": 20,
   "metadata": {},
   "outputs": [
    {
     "output_type": "error",
     "ename": "ModuleNotFoundError",
     "evalue": "No module named 'numpy'",
     "traceback": [
      "\u001b[1;31m---------------------------------------------------------------------------\u001b[0m",
      "\u001b[1;31mModuleNotFoundError\u001b[0m                       Traceback (most recent call last)",
      "\u001b[1;32m<ipython-input-20-a56165420f5c>\u001b[0m in \u001b[0;36m<module>\u001b[1;34m\u001b[0m\n\u001b[0;32m      1\u001b[0m \u001b[1;31m#Skriv ett program som låter användaren mata in 12 tal. Gör dessa till tre numpy arrays med fyra tal i varje, sätter samman dessa till en pandas dataframe och slutligen skriver ut dataframen.\u001b[0m\u001b[1;33m\u001b[0m\u001b[1;33m\u001b[0m\u001b[1;33m\u001b[0m\u001b[0m\n\u001b[0;32m      2\u001b[0m \u001b[1;33m\u001b[0m\u001b[0m\n\u001b[1;32m----> 3\u001b[1;33m \u001b[1;32mimport\u001b[0m \u001b[0mnumpy\u001b[0m \u001b[1;32mas\u001b[0m \u001b[0mnp\u001b[0m\u001b[1;33m\u001b[0m\u001b[1;33m\u001b[0m\u001b[0m\n\u001b[0m\u001b[0;32m      4\u001b[0m \u001b[1;33m\u001b[0m\u001b[0m\n\u001b[0;32m      5\u001b[0m \u001b[0mlist\u001b[0m \u001b[1;33m=\u001b[0m \u001b[1;33m[\u001b[0m\u001b[1;33m]\u001b[0m\u001b[1;33m\u001b[0m\u001b[1;33m\u001b[0m\u001b[0m\n",
      "\u001b[1;31mModuleNotFoundError\u001b[0m: No module named 'numpy'"
     ]
    }
   ],
   "source": [
    "#Skriv ett program som låter användaren mata in 12 tal. Gör dessa till tre numpy arrays med fyra tal i varje, sätter samman dessa till en pandas dataframe och slutligen skriver ut dataframen.\n",
    "\n",
    "import numpy as np\n",
    "\n",
    "list = []  \n",
    "\n",
    "print(\"Ange 12 nummer\")\n",
    "for x in range(12):\n",
    "    ange = input(\"Ange:\")  \n",
    "    list.append(ange)  \n",
    "\n"
   ]
  },
  {
   "cell_type": "code",
   "execution_count": null,
   "metadata": {},
   "outputs": [],
   "source": []
  }
 ]
}