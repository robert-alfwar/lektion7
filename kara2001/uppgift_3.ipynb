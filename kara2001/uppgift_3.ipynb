{
 "metadata": {
  "language_info": {
   "codemirror_mode": {
    "name": "ipython",
    "version": 3
   },
   "file_extension": ".py",
   "mimetype": "text/x-python",
   "name": "python",
   "nbconvert_exporter": "python",
   "pygments_lexer": "ipython3",
   "version": "3.8.5-final"
  },
  "orig_nbformat": 2,
  "kernelspec": {
   "name": "python_defaultSpec_1599481351450",
   "display_name": "Python 3.8.5 64-bit ('myenv': venv)"
  }
 },
 "nbformat": 4,
 "nbformat_minor": 2,
 "cells": [
  {
   "cell_type": "code",
   "execution_count": null,
   "metadata": {},
   "outputs": [],
   "source": [
    "## 3. Namnrymder och namngivning\n",
    "\"\"\"\n",
    "Med en ständigt ökande ström av paket så är det ofrånkomligt ett problem att en\n",
    "del funktioner kommer att ha samma namn. Lösningen kallas för namnrymder (namespace).\n",
    "Det här har dels att göra med scopes som vi lärde oss om i funktioner. Lokala\n",
    "variabler kan sägas existera i en egen namnrymd, men det är också något som\n",
    "görs vid import. I den här övningen ska vi undersöka hur det fungerar med\n",
    "två moduler som har samma namn på olika funktioner, i det här fallet gör de\n",
    "motsvarande saker, men den en för komplexa tal, den andra för vanliga.\n",
    "\n",
    "Uppgifter:\n",
    "    1. Gör ett program där du importerar hela modulerna math och cmath genom att skriva\n",
    "\n",
    "    import math\n",
    "    import cmath\n",
    "\n",
    "    2. Skriv ut resultaten för de olika metoderna math.sin(1) och cmath.sin(1)\n",
    "    3. Notera skillnaden i resultat. (tips använd \"type()\")\n",
    "    4. Gör ett nytt program med samma innehåll, där du importerar följande:\n",
    "\n",
    "    from math import sin\n",
    "    from cmath import sin\n",
    "\n",
    "    5. Skriv ut resultatet av sin(1)\n",
    "    6. Gör ett till likadant program, men byt ordning på importsatserna.\n",
    "       Vad blir det för skillnad i resultaten? Varför?\n",
    "    7. Skapa ytterliggare ett program men importera istället så här:\n",
    "\n",
    "    from math import sin\n",
    "    from cmath import sin as csin\n",
    "\n",
    "    8. Skriv ut värden för både sin(1) och csin(1)\n",
    "\n",
    "\"\"\""
   ]
  },
  {
   "cell_type": "code",
   "execution_count": 1,
   "metadata": {
    "tags": []
   },
   "outputs": [
    {
     "output_type": "stream",
     "name": "stdout",
     "text": "0.8414709848078965\n(0.8414709848078965+0j)\n"
    }
   ],
   "source": [
    "#1. Gör ett program där du importerar hela modulerna math och cmath genom att skriva\n",
    "\n",
    "import math\n",
    "import cmath\n",
    "print(math.sin(1))\n",
    "print(cmath.sin(1))"
   ]
  },
  {
   "cell_type": "code",
   "execution_count": 2,
   "metadata": {
    "tags": []
   },
   "outputs": [
    {
     "output_type": "stream",
     "name": "stdout",
     "text": "0.8414709848078965\n(0.8414709848078965+0j)\n"
    }
   ],
   "source": [
    "#2. Skriv ut resultaten för de olika metoderna math.sin(1) och cmath.sin(1)\n",
    "\n",
    "print(math.sin(1))\n",
    "print(cmath.sin(1))"
   ]
  },
  {
   "cell_type": "code",
   "execution_count": 4,
   "metadata": {
    "tags": []
   },
   "outputs": [
    {
     "output_type": "stream",
     "name": "stdout",
     "text": "<class 'float'>\n<class 'complex'>\n"
    }
   ],
   "source": [
    "#3. Notera skillnaden i resultat. (tips använd \"type()\")\n",
    "print(type(math.sin(1)))\n",
    "print(type(cmath.sin(1)))"
   ]
  },
  {
   "cell_type": "code",
   "execution_count": null,
   "metadata": {},
   "outputs": [],
   "source": []
  }
 ]
}