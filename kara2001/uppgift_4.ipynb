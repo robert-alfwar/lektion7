{
 "metadata": {
  "language_info": {
   "codemirror_mode": {
    "name": "ipython",
    "version": 3
   },
   "file_extension": ".py",
   "mimetype": "text/x-python",
   "name": "python",
   "nbconvert_exporter": "python",
   "pygments_lexer": "ipython3",
   "version": "3.8.5-final"
  },
  "orig_nbformat": 2,
  "kernelspec": {
   "name": "python_defaultSpec_1599482644372",
   "display_name": "Python 3.8.5 64-bit ('myenv': venv)"
  }
 },
 "nbformat": 4,
 "nbformat_minor": 2,
 "cells": [
  {
   "cell_type": "code",
   "execution_count": null,
   "metadata": {},
   "outputs": [],
   "source": [
    "## 4. Att använda färdiga paket\n",
    "\"\"\"\n",
    "I python är det väldigt vanligt att använda olika paket, och det går inte att\n",
    "lära ut alla av dem. Däremot går det att lära ut metoder för att hantera dem\n",
    "ändå. En viktig del av detta är att söka på nätet. Den här övningen är därför\n",
    "tänkt att delvis vara en lektion i pandas och numpy, men mest i att söka egen\n",
    "information.\n",
    "\n",
    "Uppgifter:\n",
    "\n",
    "Skriv ett program som låter användaren mata in 12 tal. Gör dessa till\n",
    "tre numpy arrays med fyra tal i varje, sätter samman dessa till en pandas\n",
    "dataframe och slutligen skriver ut dataframen.\n",
    "\n",
    "Specifikation:\n",
    "1. Skriv ett program som importerar pandas som pd och numpy som np.\n",
    "2. Ta input på tolv stycken tal. Försök att låta användaren förstå vad det är hen matar in.\n",
    "3. Dela upp de inmatade talen i listor\n",
    "4. Konvertera listorna till numpy-arrays\n",
    "5. Kombinera dessa numpy-arrayer till en dataframe.\n",
    "6. Skriv ut dataframen på skärmen.\n",
    "\n",
    "\n",
    "Kommentarer\n",
    "Det här är ett vanligt arbetssätt, att hitta något paket som löser ens uppgift, och\n",
    "därefter söka efter dokumentation på nätet. En risk är att när man möter den\n",
    "här typen av motstånd, så jobbar man mer med att få det att över huvud taget\n",
    "fungera, än att få koden snygg och prydlig. Det här är också en demonstration\n",
    "av hur pandas hjälper till med formatering av utskrifter\n",
    "\"\"\""
   ]
  },
  {
   "cell_type": "code",
   "execution_count": 11,
   "metadata": {},
   "outputs": [
    {
     "output_type": "error",
     "ename": "ModuleNotFoundError",
     "evalue": "No module named 'request'",
     "traceback": [
      "\u001b[1;31m---------------------------------------------------------------------------\u001b[0m",
      "\u001b[1;31mModuleNotFoundError\u001b[0m                       Traceback (most recent call last)",
      "\u001b[1;32m<ipython-input-11-32249a7cd2ac>\u001b[0m in \u001b[0;36m<module>\u001b[1;34m\u001b[0m\n\u001b[0;32m      1\u001b[0m \u001b[1;31m#1. Skriv ett program som importerar pandas som pd och numpy som np.\u001b[0m\u001b[1;33m\u001b[0m\u001b[1;33m\u001b[0m\u001b[1;33m\u001b[0m\u001b[0m\n\u001b[1;32m----> 2\u001b[1;33m \u001b[1;32mimport\u001b[0m \u001b[0mpanda\u001b[0m \u001b[1;32mas\u001b[0m \u001b[0mpd\u001b[0m\u001b[1;33m\u001b[0m\u001b[1;33m\u001b[0m\u001b[0m\n\u001b[0m\u001b[0;32m      3\u001b[0m \u001b[1;32mimport\u001b[0m \u001b[0mnumpy\u001b[0m \u001b[1;32mas\u001b[0m \u001b[0mnp\u001b[0m\u001b[1;33m\u001b[0m\u001b[1;33m\u001b[0m\u001b[0m\n\u001b[0;32m      4\u001b[0m \u001b[1;33m\u001b[0m\u001b[0m\n\u001b[0;32m      5\u001b[0m \u001b[1;31m#2. Ta input på tolv stycken tal. Försök att låta användaren förstå vad det är hen matar in.\u001b[0m\u001b[1;33m\u001b[0m\u001b[1;33m\u001b[0m\u001b[1;33m\u001b[0m\u001b[0m\n",
      "\u001b[1;32mc:\\Users\\ninja2\\Desktop\\visualtest\\myenv\\lib\\site-packages\\panda\\__init__.py\u001b[0m in \u001b[0;36m<module>\u001b[1;34m\u001b[0m\n\u001b[1;32m----> 1\u001b[1;33m \u001b[1;32mfrom\u001b[0m \u001b[0mrequest\u001b[0m \u001b[1;32mimport\u001b[0m \u001b[0mPandaRequest\u001b[0m\u001b[1;33m\u001b[0m\u001b[1;33m\u001b[0m\u001b[0m\n\u001b[0m\u001b[0;32m      2\u001b[0m \u001b[1;32mfrom\u001b[0m \u001b[0mmodels\u001b[0m \u001b[1;32mimport\u001b[0m \u001b[0mVideo\u001b[0m\u001b[1;33m,\u001b[0m \u001b[0mCloud\u001b[0m\u001b[1;33m,\u001b[0m \u001b[0mEncoding\u001b[0m\u001b[1;33m,\u001b[0m \u001b[0mProfile\u001b[0m\u001b[1;33m,\u001b[0m \u001b[0mNotifications\u001b[0m\u001b[1;33m,\u001b[0m \u001b[0mPandaDict\u001b[0m\u001b[1;33m\u001b[0m\u001b[1;33m\u001b[0m\u001b[0m\n\u001b[0;32m      3\u001b[0m \u001b[1;32mfrom\u001b[0m \u001b[0mmodels\u001b[0m \u001b[1;32mimport\u001b[0m \u001b[0mGroupRetriever\u001b[0m\u001b[1;33m,\u001b[0m \u001b[0mSingleRetriever\u001b[0m\u001b[1;33m\u001b[0m\u001b[1;33m\u001b[0m\u001b[0m\n\u001b[0;32m      4\u001b[0m \u001b[1;32mfrom\u001b[0m \u001b[0mmodels\u001b[0m \u001b[1;32mimport\u001b[0m \u001b[0mPandaError\u001b[0m\u001b[1;33m\u001b[0m\u001b[1;33m\u001b[0m\u001b[0m\n\u001b[0;32m      5\u001b[0m \u001b[1;32mfrom\u001b[0m \u001b[0mupload_session\u001b[0m \u001b[1;32mimport\u001b[0m \u001b[0mUploadSession\u001b[0m\u001b[1;33m\u001b[0m\u001b[1;33m\u001b[0m\u001b[0m\n",
      "\u001b[1;31mModuleNotFoundError\u001b[0m: No module named 'request'"
     ]
    }
   ],
   "source": [
    "#1. Skriv ett program som importerar pandas som pd och numpy som np.\n",
    "import panda as pd\n",
    "import numpy as np\n",
    "\n",
    "#2. Ta input på tolv stycken tal. Försök att låta användaren förstå vad det är hen matar in.\n",
    "user_list = []\n",
    "count = 0\n",
    "while count <=12:\n",
    "    user_input = input(\"Mata in 12 st tal: \")\n",
    "    user_list.append = user_input\n",
    "\n",
    "    count = +1\n",
    "    break   \n",
    "print(user_list) \n"
   ]
  },
  {
   "cell_type": "code",
   "execution_count": null,
   "metadata": {},
   "outputs": [],
   "source": []
  }
 ]
}